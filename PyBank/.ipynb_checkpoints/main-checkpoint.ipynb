{
 "cells": [
  {
   "cell_type": "code",
   "execution_count": 1,
   "metadata": {},
   "outputs": [
    {
     "name": "stdout",
     "output_type": "stream",
     "text": [
      "Financial Analysis\n",
      "-------------------\n",
      "\n",
      "Total Months : 86\n",
      "Total:  $38382578\n",
      "Average change: -2315.12\n",
      "Greatest Increase in Profits: 2012-Feb ($1926159)\n",
      "Greatest Decrease in Profits: 2013-Sep ($-2196167)\n"
     ]
    }
   ],
   "source": [
    "from pathlib import Path\n",
    "import csv \n",
    "\n",
    "#Setting path for input and output files\n",
    "csvfilepath = Path('Resources/budget_data.csv')\n",
    "outputpath = Path('Resources/output.txt')\n",
    "\n",
    "#list for profit/loss data\n",
    "profitlossData = []\n",
    "\n",
    "#Initializing the necessary variables\n",
    "total_month = 0\n",
    "total_profit = 0\n",
    "previous_month_Data = 0\n",
    "average_change = []\n",
    "max_profit_increase = 0\n",
    "max_profit_decrease = 0\n",
    "monthly_change = 0\n",
    "mostprofitable_month = ''\n",
    "leastprofitable_month = ''\n",
    "\n",
    "#Open the csv file for reading data\n",
    "with open(csvfilepath, 'r') as csvfile:\n",
    "    \n",
    "    csvreader = csv.reader(csvfile, delimiter=',')\n",
    "    \n",
    "    #Skip the header \n",
    "    header = next(csvreader)     \n",
    "    \n",
    "    # Storing first month of data to calcuate the difference from second month onwards\n",
    "    previous_month_Data = int((next(csvreader))[1])\n",
    "    total_profit = previous_month_Data    \n",
    "    total_month += 1  \n",
    "    \n",
    "    for row in csvreader:\n",
    "        total_month +=1\n",
    "        total_profit += int(row[1])\n",
    "        monthly_change = int(row[1]) -  int(previous_month_Data)\n",
    "        average_change.append(monthly_change)\n",
    "        previous_month_Data = int(row[1])\n",
    "        \n",
    "        if(monthly_change > max_profit_increase):\n",
    "            max_profit_increase = monthly_change\n",
    "            mostprofitable_month = row[0]\n",
    "        elif (monthly_change < max_profit_decrease):\n",
    "            max_profit_decrease = monthly_change\n",
    "            leastprofitable_month = row[0]\n",
    "        \n",
    "    #Calculate Average change\n",
    "    total_avg = 0\n",
    "    avg_count = 0\n",
    "    for avg in average_change:\n",
    "        total_avg +=avg\n",
    "        avg_count +=1\n",
    "    \n",
    "    output = open(outputpath, 'w')\n",
    "    \n",
    "    msg = \"Financial Analysis\\n-------------------\\n\"\n",
    "    output.write(msg)\n",
    "    print(msg)   \n",
    "    #print(f\"-------------------\")\n",
    "    print(f\"Total Months : {total_month}\")\n",
    "    output.write(\"Total Months : \"  + str(total_month) + \"\\n\")\n",
    "    print(f\"Total:  ${total_profit}\")\n",
    "    output.write(\"Total: $\"  + str(total_profit) + \"\\n\")    \n",
    "    average_change = round(total_avg/avg_count, 2)\n",
    "    print(f\"Average change: ${average_change}\" )\n",
    "    output.write(\"Average change: $\" + str(average_change) + \"\\n\")\n",
    "    print(f\"Greatest Increase in Profits: 20{mostprofitable_month} (${max_profit_increase})\")\n",
    "    output.write(\"Greatest Increase in Profits: 20\" + mostprofitable_month + \" ($\" + str(max_profit_increase) + \")\\n\")\n",
    "    print(f\"Greatest Decrease in Profits: 20{leastprofitable_month} (${max_profit_decrease})\")\n",
    "    output.write(\"Greatest Decrease in Profits: 20\" + leastprofitable_month + \" ($\" + str(max_profit_decrease) + \")\\n\")\n",
    "    \n",
    "    #Closing File\n",
    "    output.close()\n",
    "    \n",
    "        \n",
    "        \n",
    "    \n",
    "        \n",
    "\n",
    "\n",
    "            \n",
    "               \n",
    "    "
   ]
  },
  {
   "cell_type": "code",
   "execution_count": null,
   "metadata": {},
   "outputs": [],
   "source": []
  },
  {
   "cell_type": "code",
   "execution_count": null,
   "metadata": {},
   "outputs": [],
   "source": []
  },
  {
   "cell_type": "code",
   "execution_count": null,
   "metadata": {},
   "outputs": [],
   "source": []
  },
  {
   "cell_type": "code",
   "execution_count": null,
   "metadata": {},
   "outputs": [],
   "source": []
  },
  {
   "cell_type": "code",
   "execution_count": null,
   "metadata": {},
   "outputs": [],
   "source": []
  },
  {
   "cell_type": "code",
   "execution_count": null,
   "metadata": {},
   "outputs": [],
   "source": []
  },
  {
   "cell_type": "code",
   "execution_count": null,
   "metadata": {},
   "outputs": [],
   "source": []
  }
 ],
 "metadata": {
  "kernelspec": {
   "display_name": "Python 3",
   "language": "python",
   "name": "python3"
  },
  "language_info": {
   "codemirror_mode": {
    "name": "ipython",
    "version": 3
   },
   "file_extension": ".py",
   "mimetype": "text/x-python",
   "name": "python",
   "nbconvert_exporter": "python",
   "pygments_lexer": "ipython3",
   "version": "3.8.3"
  }
 },
 "nbformat": 4,
 "nbformat_minor": 4
}
