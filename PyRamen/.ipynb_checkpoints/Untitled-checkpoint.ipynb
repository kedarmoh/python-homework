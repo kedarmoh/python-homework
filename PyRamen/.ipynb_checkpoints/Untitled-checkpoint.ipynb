{
 "cells": [
  {
   "cell_type": "code",
   "execution_count": 4,
   "metadata": {},
   "outputs": [
    {
     "name": "stdout",
     "output_type": "stream",
     "text": [
      "Fizz\n",
      "1\n",
      "2\n",
      "Buzz\n",
      "4\n",
      "FizzBuzz\n",
      "Buzz\n",
      "7\n",
      "8\n",
      "Buzz\n",
      "FizzBuzz\n",
      "11\n",
      "Buzz\n",
      "13\n",
      "14\n",
      "Fizz\n",
      "16\n",
      "17\n",
      "Buzz\n",
      "19\n",
      "FizzBuzz\n",
      "Buzz\n",
      "22\n",
      "23\n",
      "Buzz\n",
      "FizzBuzz\n",
      "26\n",
      "Buzz\n",
      "28\n",
      "29\n",
      "Fizz\n",
      "31\n",
      "32\n",
      "Buzz\n",
      "34\n",
      "FizzBuzz\n",
      "Buzz\n",
      "37\n",
      "38\n",
      "Buzz\n",
      "FizzBuzz\n",
      "41\n",
      "Buzz\n",
      "43\n",
      "44\n",
      "Fizz\n",
      "46\n",
      "47\n",
      "Buzz\n",
      "49\n",
      "FizzBuzz\n"
     ]
    }
   ],
   "source": [
    " for  var in range(51) :    \n",
    "    if var%3 ==0 and var%5 ==0 :\n",
    "        print(f\"Fizz\")\n",
    "    elif var%3 ==0 :\n",
    "        print(f\"Buzz\")\n",
    "    elif var%5 ==0 :\n",
    "        print(f\"FizzBuzz\")\n",
    "    else: \n",
    "        print(var)\n",
    "    \n",
    "    \n"
   ]
  },
  {
   "cell_type": "code",
   "execution_count": null,
   "metadata": {},
   "outputs": [],
   "source": []
  }
 ],
 "metadata": {
  "kernelspec": {
   "display_name": "Python 3",
   "language": "python",
   "name": "python3"
  },
  "language_info": {
   "codemirror_mode": {
    "name": "ipython",
    "version": 3
   },
   "file_extension": ".py",
   "mimetype": "text/x-python",
   "name": "python",
   "nbconvert_exporter": "python",
   "pygments_lexer": "ipython3",
   "version": "3.8.3"
  }
 },
 "nbformat": 4,
 "nbformat_minor": 4
}
