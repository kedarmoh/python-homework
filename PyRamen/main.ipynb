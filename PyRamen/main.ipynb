{
 "cells": [
  {
   "cell_type": "code",
   "execution_count": 22,
   "metadata": {
    "scrolled": true
   },
   "outputs": [
    {
     "name": "stdout",
     "output_type": "stream",
     "text": [
      "==========Financial Analysis Report ========== \n",
      "\n",
      "{'spicy miso ramen': {'01-count': 9238, '02-revenue': 110856.0, '03-cogs': 46190.0, '04-profit': 64666.0}, 'tori paitan ramen': {'01-count': 9156, '02-revenue': 119028.0, '03-cogs': 54936.0, '04-profit': 64092.0}, 'truffle butter ramen': {'01-count': 8982, '02-revenue': 125748.0, '03-cogs': 62874.0, '04-profit': 62874.0}, 'tonkotsu ramen': {'01-count': 9288, '02-revenue': 120744.0, '03-cogs': 55728.0, '04-profit': 65016.0}, 'vegetarian spicy miso': {'01-count': 9216, '02-revenue': 110592.0, '03-cogs': 46080.0, '04-profit': 64512.0}, 'shio ramen': {'01-count': 9180, '02-revenue': 100980.0, '03-cogs': 45900.0, '04-profit': 55080.0}, 'miso crab ramen': {'01-count': 8890, '02-revenue': 106680.0, '03-cogs': 53340.0, '04-profit': 53340.0}, 'nagomi shoyu': {'01-count': 9132, '02-revenue': 100452.0, '03-cogs': 45660.0, '04-profit': 54792.0}, 'soft-shell miso crab ramen': {'01-count': 9130, '02-revenue': 127820.0, '03-cogs': 63910.0, '04-profit': 63910.0}, 'burnt garlic tonkotsu ramen': {'01-count': 9070, '02-revenue': 126980.0, '03-cogs': 54420.0, '04-profit': 72560.0}, 'vegetarian curry + king trumpet mushroom ramen': {'01-count': 8824, '02-revenue': 114712.0, '03-cogs': 61768.0, '04-profit': 52944.0}}\n"
     ]
    }
   ],
   "source": [
    "from pathlib import Path\n",
    "import csv\n",
    "\n",
    "# Setting path of input file for sales data and menu item\n",
    "menudata_path = Path(\"Resources/menu_data.csv\")\n",
    "salesdata_path = Path(\"Resources/sales_data.csv\")\n",
    "\n",
    "#Setting path where the output of financial analysis will be written\n",
    "financialanalysis_path = Path(\"Resources/FinancialAnalysis.txt\")\n",
    "\n",
    "#Dictionary for menu items\n",
    "menu = []\n",
    "\n",
    "#Populate dictionary with menu items.\n",
    "with open(menudata_path, 'r') as menudatafile:\n",
    "    \n",
    "    menudatareader  = csv.reader(menudatafile, delimiter=',')\n",
    "    header = next(menudatareader )\n",
    "    \n",
    "    for row in menudatareader:\n",
    "        menu.append(row)\n",
    "\n",
    "#create price  and cost dictionary of menu items. \n",
    "#This dictionaries will help get the cost and price of the menu items faster\n",
    "#than having to go over the menu dictionary everytime to get cost\n",
    "menuitem_price = {}\n",
    "menuitem_cost = {}\n",
    "for menuitem in menu:\n",
    "    menuitem_price[menuitem[0]]  = menuitem[3]\n",
    "    menuitem_cost[menuitem[0]]  = menuitem[4]\n",
    "\n",
    "\n",
    "# Reading Sales data in Sales dictionary\n",
    "sales = []\n",
    "\n",
    "with open(salesdata_path, 'r') as salesdatafile:\n",
    "    \n",
    "    salesdatareader  = csv.reader(salesdatafile, delimiter=',')\n",
    "    header = next(salesdatareader)    \n",
    "    for row in salesdatareader:\n",
    "        sales.append(row)\n",
    "\n",
    "\n",
    "#Initialize dictionary\n",
    "financialreport = {}\n",
    "quantity = 0\n",
    "count =0\n",
    "\n",
    "#Open the ouput file to write the final analysis data\n",
    "financialdatafile = open(financialanalysis_path, 'w')\n",
    "\n",
    "for sale in sales: \n",
    "    count += 1\n",
    "    \n",
    "    menu_item = sale[4]\n",
    "    quantity = int(sale[3])    \n",
    "    revenue = round(float(menuitem_price[menu_item]) * quantity, 1)    \n",
    "    cogs = round(float(menuitem_cost[menu_item]) * quantity,1)   \n",
    "    profit = round((float(revenue) - int(cogs)),1)\n",
    "    \n",
    "    #check if the key is in the dictionary, else add it the first time\n",
    "    if menu_item not in financialreport.keys():     \n",
    "        financialreport[menu_item] = {\"01-count\": quantity, \"02-revenue\": round(float(revenue),1), \"03-cogs\" : round(float(cogs),1), \"04-profit\" : round(float(profit),1) }\n",
    "    else:\n",
    "        financialreport[menu_item][\"01-count\"] += quantity\n",
    "        financialreport[menu_item][\"02-revenue\"] =  float(financialreport[menu_item][\"02-revenue\"] + revenue)\n",
    "        financialreport[menu_item][\"03-cogs\"] += cogs\n",
    "        financialreport[menu_item][\"04-profit\"] += profit   \n",
    "    \n",
    "#Write the financial report to a dictionary\n",
    "for key,value in financialreport.items() :\n",
    "    financialdatafile.write(key + \" \" + str(value) + \"\\n\")\n",
    "\n",
    "#Close the file\n",
    "financialdatafile.close()\n",
    "\n",
    "print(\"==========Financial Analysis Report ========== \\n\")\n",
    "print(financialreport)\n",
    "        \n"
   ]
  },
  {
   "cell_type": "code",
   "execution_count": null,
   "metadata": {},
   "outputs": [],
   "source": []
  },
  {
   "cell_type": "code",
   "execution_count": null,
   "metadata": {},
   "outputs": [],
   "source": []
  }
 ],
 "metadata": {
  "kernelspec": {
   "display_name": "Python 3",
   "language": "python",
   "name": "python3"
  },
  "language_info": {
   "codemirror_mode": {
    "name": "ipython",
    "version": 3
   },
   "file_extension": ".py",
   "mimetype": "text/x-python",
   "name": "python",
   "nbconvert_exporter": "python",
   "pygments_lexer": "ipython3",
   "version": "3.8.3"
  }
 },
 "nbformat": 4,
 "nbformat_minor": 4
}
